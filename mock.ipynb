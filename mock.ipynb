{
 "cells": [
  {
   "cell_type": "code",
   "execution_count": 55,
   "metadata": {},
   "outputs": [
    {
     "data": {
      "text/plain": [
       "False"
      ]
     },
     "execution_count": 55,
     "metadata": {},
     "output_type": "execute_result"
    }
   ],
   "source": [
    "def isincreasing(nums):\n",
    "    if sorted(nums) != nums:\n",
    "        for i in range(len(nums)-1):\n",
    "            if nums[i] > nums[i+1]:\n",
    "                nums.remove(nums[i])\n",
    "                if sorted(nums) == nums:\n",
    "                    return True\n",
    "                else:\n",
    "                    return False\n",
    "    else:\n",
    "        return True\n",
    "        \n",
    "nums = [1,2,10,11,5,7]\n",
    "isincreasing(nums)"
   ]
  },
  {
   "cell_type": "code",
   "execution_count": 68,
   "metadata": {},
   "outputs": [
    {
     "name": "stdout",
     "output_type": "stream",
     "text": [
      "0 1\n",
      "[2, 10, 11, 5, 7]\n",
      "1 2\n",
      "[1, 10, 11, 5, 7]\n",
      "2 10\n",
      "[1, 2, 11, 5, 7]\n",
      "3 11\n",
      "[1, 2, 10, 5, 7]\n",
      "4 5\n",
      "[1, 2, 10, 11, 7]\n",
      "5 7\n",
      "[1, 2, 10, 11, 5]\n"
     ]
    },
    {
     "data": {
      "text/plain": [
       "False"
      ]
     },
     "execution_count": 68,
     "metadata": {},
     "output_type": "execute_result"
    }
   ],
   "source": [
    "def increasing(nums):\n",
    "    for idx, val in enumerate(nums):\n",
    "        print(idx,val)\n",
    "        new_nums = nums[:idx] + nums[idx + 1:]\n",
    "        print(new_nums)\n",
    "        if new_nums == sorted(list(set(new_nums))):\n",
    "            return True\n",
    "    return False\n",
    "\n",
    "\n",
    "increasing([1,2,10,11,5,7])"
   ]
  },
  {
   "cell_type": "code",
   "execution_count": null,
   "metadata": {},
   "outputs": [],
   "source": [
    "def twoSums(arr, target):\n",
    "    for i in range(len(arr)):\n",
    "        for j in range(i):\n",
    "            if arr[i] + arr[j] == target:\n",
    "                return i,j\n",
    "            else:\n",
    "                arr = []\n",
    "                for i in range(len(arr)):\n",
    "                    arr.append(-1)\n",
    "                return arr\n",
    "\n",
    "twoSums([2,7,3,10], 5)\n",
    "\n"
   ]
  },
  {
   "cell_type": "code",
   "execution_count": 6,
   "metadata": {},
   "outputs": [],
   "source": [
    "for i in range(0):\n",
    "    print(i)"
   ]
  }
 ],
 "metadata": {
  "kernelspec": {
   "display_name": "Python 3",
   "language": "python",
   "name": "python3"
  },
  "language_info": {
   "codemirror_mode": {
    "name": "ipython",
    "version": 3
   },
   "file_extension": ".py",
   "mimetype": "text/x-python",
   "name": "python",
   "nbconvert_exporter": "python",
   "pygments_lexer": "ipython3",
   "version": "3.10.9"
  },
  "orig_nbformat": 4,
  "vscode": {
   "interpreter": {
    "hash": "b707b4b727a70def9d92d55168892060bc7534e2270a095c9587dcaf69615681"
   }
  }
 },
 "nbformat": 4,
 "nbformat_minor": 2
}
